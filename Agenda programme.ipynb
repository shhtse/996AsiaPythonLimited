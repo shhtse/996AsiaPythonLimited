{
 "cells": [
  {
   "cell_type": "code",
   "execution_count": 3,
   "id": "d6ea0060",
   "metadata": {
    "scrolled": true
   },
   "outputs": [
    {
     "name": "stdout",
     "output_type": "stream",
     "text": [
      "Good morning. The time now is 2021-07-24 23:37:46.064255. Your tasks today are:\n",
      "\n",
      "Piano                  from    0800 to 1000\n",
      "Japanese               from    1000 to 1100\n",
      "Lunch                  from    1100 to 1330\n",
      "Chinese History        from    1330 to 1430\n",
      "Gym                    from    1430 to 1630\n",
      "Dinner and Bath        from    1630 to 1930\n",
      "Agenda programme       from    1930 to 2330\n",
      "\n",
      "Today quotes:\n",
      "剛戾忍訽，智深勇沈\n"
     ]
    }
   ],
   "source": [
    "import datetime\n",
    "from datetime import date\n",
    "from datetime import timedelta\n",
    "\n",
    "class todo:\n",
    "    def __init__(self,job,day,sday,eday):\n",
    "        self.job = job\n",
    "        self.day = day\n",
    "        self.sday = sday\n",
    "        self.eday = eday\n",
    "\n",
    "today = datetime.datetime.now()\n",
    "dayone = datetime.datetime(2021,7,23)\n",
    "job_finished = []\n",
    "quotes = ['剛戾忍訽，智深勇沈']\n",
    "\n",
    "job = ['Agenda programme','HTML','mml']\n",
    "job[0] = todo(job[0],2,dayone,dayone)\n",
    "job[1] = todo(job[1],4,dayone,dayone)\n",
    "job[2] = todo(job[2],3,dayone,dayone)\n",
    "\n",
    "for i in range(len(job)):\n",
    "    if i != 0 :\n",
    "        job[i].sday = job[i-1].eday + timedelta(days = 1)\n",
    "    job[i].eday = job[i].sday + timedelta(days = job[i].day - 1)\n",
    "    if job[i].sday <= today:\n",
    "        job_finished.append(job[i].job)\n",
    "print(f'Good morning. The time now is {today}. Your tasks today are:\\n')\n",
    "print(f'{\"Piano\":<20}{\"from\":^10} 0800 to 1000')\n",
    "print(f'{\"Japanese\":<20}{\"from\":^10} 1000 to 1100')\n",
    "print(f'{\"Lunch\":<20}{\"from\":^10} 1100 to 1330')\n",
    "print(f'{\"Chinese History\":<20}{\"from\":^10} 1330 to 1430')\n",
    "print(f'{\"Gym\":<20}{\"from\":^10} 1430 to 1630')\n",
    "print(f'{\"Dinner and Bath\":<20}{\"from\":^10} 1630 to 1930')\n",
    "print(('{:<20}{:^10} {} to {}').format(job_finished[len(job_finished)-1],\"from\",'1930','2330'))\n",
    "print((\"\\nToday quotes:\\n{}\").format(quotes[0]))\n"
   ]
  }
 ],
 "metadata": {
  "kernelspec": {
   "display_name": "Python 3",
   "language": "python",
   "name": "python3"
  },
  "language_info": {
   "codemirror_mode": {
    "name": "ipython",
    "version": 3
   },
   "file_extension": ".py",
   "mimetype": "text/x-python",
   "name": "python",
   "nbconvert_exporter": "python",
   "pygments_lexer": "ipython3",
   "version": "3.8.8"
  }
 },
 "nbformat": 4,
 "nbformat_minor": 5
}
